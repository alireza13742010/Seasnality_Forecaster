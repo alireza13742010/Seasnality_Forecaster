{
  "nbformat": 4,
  "nbformat_minor": 0,
  "metadata": {
    "colab": {
      "provenance": []
    },
    "kernelspec": {
      "name": "python3",
      "display_name": "Python 3"
    },
    "language_info": {
      "name": "python"
    }
  },
  "cells": [
    {
      "cell_type": "code",
      "source": [
        "import numpy as np\n",
        "import pandas as pd\n",
        "from sklearn.linear_model import LinearRegression\n",
        "from sklearn.preprocessing import PolynomialFeatures\n",
        "from sklearn.linear_model import Lasso\n",
        "from sklearn.svm import SVR\n",
        "from sklearn.tree import DecisionTreeRegressor\n",
        "from sklearn.metrics import r2_score, mean_squared_error,mean_absolute_percentage_error,mean_absolute_error\n",
        "from sklearn.linear_model import Ridge\n",
        "from sklearn.linear_model import ElasticNet\n",
        "from sklearn.ensemble import GradientBoostingRegressor\n",
        "from sklearn.model_selection import train_test_split\n",
        "###\n",
        "from lightgbm import LGBMRegressor\n",
        "##\n",
        "from sklearn.ensemble import HistGradientBoostingRegressor\n",
        "from sklearn.neighbors import KNeighborsRegressor\n",
        "import xgboost as xg\n",
        "class SeasonalForecaster:\n",
        "  def __init__(self):\n",
        "    pass\n",
        "  def _calculate_metrics(self, y_true, y_pred):\n",
        "    print('mse: ', mean_squared_error(y_true, y_pred))\n",
        "    print('mae: ', mean_absolute_error(y_true, y_pred))\n",
        "    print('r2_score:', r2_score(y_true, y_pred))\n",
        "    print('MAPE: ', mean_absolute_percentage_error(y_true, y_pred))\n",
        "    print('predictions: ', y_pred)\n",
        "  def Linear_regression(self,x,y):\n",
        "    self.m = LinearRegression()\n",
        "    self.m.fit(x, y)\n",
        "    pred = self.m.predict(x)\n",
        "    print(self._calculate_metrics(y,pred))\n",
        "    return self.m\n",
        "  def Poly_regression(self, degree,x,y):\n",
        "    self.m = PolynomialFeatures(degree)\n",
        "    lin_reg = LinearRegression()\n",
        "    Poly_Features= self.m .fit_transform(x)\n",
        "    lin_reg.fit(Poly_Features, y)\n",
        "    pred = lin_reg.predict(x)\n",
        "    print(self._calculate_metrics(y,pred))\n",
        "    return lin_reg\n",
        "  def Ridge_regression(self, alpha,x,y):\n",
        "    self.m = Ridge(alpha=alpha)\n",
        "    self.m.fit(x, y)\n",
        "    pred = self.m.predict(x)\n",
        "    print(self._calculate_metrics(y,pred))\n",
        "    return self.m\n",
        "  def Lasso_regression(self, alpha,x,y):\n",
        "    self.m = Lasso(alpha=alpha)\n",
        "    self.m.fit(x, y)\n",
        "    pred = self.m.predict(x)\n",
        "    print(self._calculate_metrics(y,pred))\n",
        "    return self.m\n",
        "  def Elastic_net(self, alpha, l1_ratio,x,y):\n",
        "    self.m = ElasticNet(alpha= alpha, l1_ratio=l1_ratio)\n",
        "    self.m.fit(x, y)\n",
        "    pred = self.m.predict(x)\n",
        "    print(self._calculate_metrics(y,pred))\n",
        "    return self.m\n",
        "  def SARIMAX(self,x,y, order = (1,1,1,7)):\n",
        "    model = SARIMAX(x, exog=x,\n",
        "                        order=order,\n",
        "                        seasonal_order=(1,1,1,7),\n",
        "                        enforce_stationarity=False,\n",
        "                        enforce_invertibility=False)\n",
        "    sarima_result = model.fit(disp=False)\n",
        "    sarima_pred = sarima_result.forecast(steps=len(x), exog=x)\n",
        "    print(self._calculate_metrics(y,sarima_pred))\n",
        "    return model\n",
        "  def SVR(self,x,y,kernel=\"poly\", degree=2, C=100):\n",
        "    self.m = SVR(kernel=kernel, degree=degree, C=C, epsilon=0.1)\n",
        "    self.m.fit(x, y)\n",
        "    pred = self.m.predict(x)\n",
        "    print(self._calculate_metrics(y,pred))\n",
        "    return self.m\n",
        "  def Tree_regression(self,x,y,max_depth=2):\n",
        "    self.m = DecisionTreeRegressor(max_depth=max_depth)\n",
        "    self.m.fit(x, y)\n",
        "    pred = self.m.predict(x)\n",
        "    print(self._calculate_metrics(y,pred))\n",
        "    return self.m\n",
        "  def Light_GBM_regression(self,x,y,metric):\n",
        "    self.m = LGBMRegressor(metric=metric)\n",
        "    self.m.fit(x, y)\n",
        "    pred = self.m.predict(x)\n",
        "    print(self._calculate_metrics(y,pred))\n",
        "    return self.m\n",
        "  def XGB_regression(self,x,y,objective ='reg:linear', n_estimators = 10):\n",
        "    self.m  = xg.XGBRegressor(objective =objective, n_estimators = n_estimators)\n",
        "    self.m.fit(x, y)\n",
        "    pred = self.m.predict(x)\n",
        "    print(self._calculate_metrics(y,pred))\n",
        "    return self.m\n",
        "  def HistGradientBoostingRegressor(self,x,y):\n",
        "    self.m  =HistGradientBoostingRegressor()\n",
        "    self.m.fit(x, y)\n",
        "    pred = self.m.predict(x)\n",
        "    print(self._calculate_metrics(y,pred))\n",
        "    return self.m\n",
        "  def KNeighborsRegressor(self,x,y, cluster):\n",
        "    self.m = KNeighborsRegressor(n_neighbors=cluster)\n",
        "    self.m.fit(x, y)\n",
        "    pred = self.m.predict(x)\n",
        "    print(self._calculate_metrics(y,pred))\n",
        "    return self.m\n",
        "\n",
        "def validation_testing(x_test,y_test, model):\n",
        "  y_pred = model.predict(x_test)\n",
        "  print('mse: ', mean_squared_error(y_test, y_pred))\n",
        "  print('mae: ', mean_absolute_error(y_test, y_pred))\n",
        "  print('r2_score:', r2_score(y_test, y_pred))\n",
        "  print('MAPE: ', mean_absolute_percentage_error(y_test, y_pred))\n",
        "  print('predictions: ', y_pred)\n",
        "\n",
        "def Train_test_split(x,y,test_size,random_state):\n",
        "  X_train, X_test, y_train, y_test = train_test_split(x, y, test_size= test_size, random_state=random_state)\n",
        "  print(\"the training size is: \",X_train.shape)\n",
        "  print(\"The testing size is: \",X_test.shape)\n",
        "  print(\"The training target size is: \",y_train.shape)\n",
        "  print(\"The testing targe size is: \",y_test.shape)\n",
        "  return X_train, X_test, y_train, y_test\n",
        "\n",
        "def read_data(path, target : str, features: list):\n",
        "  _, form= path.split(\".\")\n",
        "  if form == \"csv\":\n",
        "    df = pd.read_csv(path)\n",
        "  if form == \"xls\" or form ==\"XLS\":\n",
        "     df = pd.read_excel(path)\n",
        "  data = df[features]\n",
        "  target =df[target]\n",
        "  return data, target\n",
        "\n"
      ],
      "metadata": {
        "id": "0lfkpOmtLDif"
      },
      "execution_count": 32,
      "outputs": []
    },
    {
      "cell_type": "code",
      "source": [
        "data, target = read_data('/content/XAU_1d_data_2004_to_2024-09-20.csv','Close', [\"High\", \"Open\", \"Low\"])"
      ],
      "metadata": {
        "id": "AcK6zODQdLqp"
      },
      "execution_count": 33,
      "outputs": []
    },
    {
      "cell_type": "code",
      "source": [
        "X_train, X_test, y_train, y_test = Train_test_split(data, target, 0.3, 21)"
      ],
      "metadata": {
        "colab": {
          "base_uri": "https://localhost:8080/"
        },
        "id": "D0Ng4OuQd1n_",
        "outputId": "240a822e-6cfd-45d6-f07d-9a43e545082e"
      },
      "execution_count": 34,
      "outputs": [
        {
          "output_type": "stream",
          "name": "stdout",
          "text": [
            "the training size is:  (3643, 3)\n",
            "The testing size is:  (1562, 3)\n",
            "The training target size is:  (3643,)\n",
            "The testing targe size is:  (1562,)\n"
          ]
        }
      ]
    },
    {
      "cell_type": "code",
      "source": [
        "model = SeasonalForecaster()"
      ],
      "metadata": {
        "id": "A6Z6WX2XekFY"
      },
      "execution_count": 35,
      "outputs": []
    },
    {
      "cell_type": "code",
      "source": [
        "ridge = model.Ridge_regression(1.2,X_train,y_train )"
      ],
      "metadata": {
        "colab": {
          "base_uri": "https://localhost:8080/"
        },
        "id": "wQYuXu_1el89",
        "outputId": "b8116b33-5d88-4f75-dc22-504389b0b337"
      },
      "execution_count": 36,
      "outputs": [
        {
          "output_type": "stream",
          "name": "stdout",
          "text": [
            "mse:  31.527038586664908\n",
            "mae:  3.7719214399062877\n",
            "r2_score: 0.9998598973745674\n",
            "MAPE:  0.0029811396437718365\n",
            "predictions:  [ 895.9442848  1719.60599833 1310.88149238 ...  827.88133128  406.37562063\n",
            "  653.36725344]\n",
            "None\n"
          ]
        }
      ]
    },
    {
      "cell_type": "code",
      "source": [
        "validation_testing(X_test,y_test, ridge)"
      ],
      "metadata": {
        "colab": {
          "base_uri": "https://localhost:8080/"
        },
        "id": "a4X5__WGfL_9",
        "outputId": "d3b6dd1d-907a-46fe-a9a8-1e6793e0423b"
      },
      "execution_count": 38,
      "outputs": [
        {
          "output_type": "stream",
          "name": "stdout",
          "text": [
            "mse:  30.03444125597344\n",
            "mae:  3.8080961215061615\n",
            "r2_score: 0.9998625732086229\n",
            "MAPE:  0.003014003047297934\n",
            "predictions:  [1339.44636621  655.65253848 1338.44723215 ... 1199.55820848  884.00901544\n",
            " 1282.18703559]\n"
          ]
        }
      ]
    },
    {
      "cell_type": "code",
      "source": [
        "KNN = model.KNeighborsRegressor(X_train,y_train,3)"
      ],
      "metadata": {
        "colab": {
          "base_uri": "https://localhost:8080/"
        },
        "id": "8G78FVjcfiiN",
        "outputId": "784a0a96-58c9-4e4c-b7c4-1650afb91cc8"
      },
      "execution_count": 41,
      "outputs": [
        {
          "output_type": "stream",
          "name": "stdout",
          "text": [
            "mse:  25.61244827218106\n",
            "mae:  3.3556711501509744\n",
            "r2_score: 0.9998861811509245\n",
            "MAPE:  0.0026767318220139386\n",
            "predictions:  [ 895.83333333 1717.26666667 1313.7        ...  822.36666667  405.73333333\n",
            "  655.2       ]\n",
            "None\n"
          ]
        }
      ]
    },
    {
      "cell_type": "code",
      "source": [
        "validation_testing(X_test,y_test, KNN)"
      ],
      "metadata": {
        "colab": {
          "base_uri": "https://localhost:8080/"
        },
        "id": "roUHcA7Pfvhv",
        "outputId": "3caa635a-0631-45f3-c09b-ec26668ede2e"
      },
      "execution_count": 42,
      "outputs": [
        {
          "output_type": "stream",
          "name": "stdout",
          "text": [
            "mse:  52.015568324085876\n",
            "mae:  4.77584933845497\n",
            "r2_score: 0.9997619954839342\n",
            "MAPE:  0.003813493274627549\n",
            "predictions:  [1339.04666667  654.66666667 1339.7        ... 1199.71        879.43333333\n",
            " 1284.57666667]\n"
          ]
        }
      ]
    },
    {
      "cell_type": "code",
      "source": [
        "HistGradientBoostingRegressor = model.HistGradientBoostingRegressor(X_train,y_train)"
      ],
      "metadata": {
        "colab": {
          "base_uri": "https://localhost:8080/"
        },
        "id": "0MdpHOs5fzts",
        "outputId": "94d00a65-a6c0-485d-d065-10cf94209285"
      },
      "execution_count": 43,
      "outputs": [
        {
          "output_type": "stream",
          "name": "stdout",
          "text": [
            "mse:  62.25500470871762\n",
            "mae:  4.887250452913198\n",
            "r2_score: 0.9997233457375948\n",
            "MAPE:  0.0039774613854930176\n",
            "predictions:  [ 900.70684143 1722.98767432 1312.8494338  ...  819.01112266  404.88925321\n",
            "  654.64841391]\n",
            "None\n"
          ]
        }
      ]
    },
    {
      "cell_type": "code",
      "source": [
        "validation_testing(X_test,y_test, HistGradientBoostingRegressor)"
      ],
      "metadata": {
        "colab": {
          "base_uri": "https://localhost:8080/"
        },
        "id": "C6EpxJwXgCV1",
        "outputId": "518d5087-0bc8-4286-af4a-62e6398be4c0"
      },
      "execution_count": 44,
      "outputs": [
        {
          "output_type": "stream",
          "name": "stdout",
          "text": [
            "mse:  107.15800527621172\n",
            "mae:  6.20881027210341\n",
            "r2_score: 0.999509683542638\n",
            "MAPE:  0.004897718871478396\n",
            "predictions:  [1335.92444144  658.82835487 1338.43039286 ... 1201.1870111   882.30704227\n",
            " 1280.79631144]\n"
          ]
        }
      ]
    }
  ]
}